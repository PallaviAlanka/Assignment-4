{
 "cells": [
  {
   "cell_type": "code",
   "execution_count": 1,
   "id": "dbec7055",
   "metadata": {},
   "outputs": [
    {
     "name": "stdout",
     "output_type": "stream",
     "text": [
      "     Pregnancies  Glucose  BloodPressure  SkinThickness  Insulin   BMI  \\\n",
      "0              6      148             72             35        0  33.6   \n",
      "1              1       85             66             29        0  26.6   \n",
      "2              8      183             64              0        0  23.3   \n",
      "3              1       89             66             23       94  28.1   \n",
      "4              0      137             40             35      168  43.1   \n",
      "..           ...      ...            ...            ...      ...   ...   \n",
      "763           10      101             76             48      180  32.9   \n",
      "764            2      122             70             27        0  36.8   \n",
      "765            5      121             72             23      112  26.2   \n",
      "766            1      126             60              0        0  30.1   \n",
      "767            1       93             70             31        0  30.4   \n",
      "\n",
      "     DiabetesPedigreeFunction  Age  Outcome  \n",
      "0                       0.627   50        1  \n",
      "1                       0.351   31        0  \n",
      "2                       0.672   32        1  \n",
      "3                       0.167   21        0  \n",
      "4                       2.288   33        1  \n",
      "..                        ...  ...      ...  \n",
      "763                     0.171   63        0  \n",
      "764                     0.340   27        0  \n",
      "765                     0.245   30        0  \n",
      "766                     0.349   47        1  \n",
      "767                     0.315   23        0  \n",
      "\n",
      "[768 rows x 9 columns]\n"
     ]
    }
   ],
   "source": [
    "import pandas as pd\n",
    "df = pd.read_csv(\"diabetes.csv\")\n",
    "print(df)"
   ]
  },
  {
   "cell_type": "code",
   "execution_count": 2,
   "id": "f3fd0892",
   "metadata": {},
   "outputs": [
    {
     "name": "stdout",
     "output_type": "stream",
     "text": [
      "     Pregnancies  Glucose  BloodPressure  SkinThickness  Insulin   BMI  \\\n",
      "0              6      148             72             35        0  33.6   \n",
      "1              1       85             66             29        0  26.6   \n",
      "2              8      183             64              0        0  23.3   \n",
      "3              1       89             66             23       94  28.1   \n",
      "4              0      137             40             35      168  43.1   \n",
      "..           ...      ...            ...            ...      ...   ...   \n",
      "763           10      101             76             48      180  32.9   \n",
      "764            2      122             70             27        0  36.8   \n",
      "765            5      121             72             23      112  26.2   \n",
      "766            1      126             60              0        0  30.1   \n",
      "767            1       93             70             31        0  30.4   \n",
      "\n",
      "     DiabetesPedigreeFunction  Age  Outcome    0    1  \n",
      "0                       0.627   50        1  0.0  1.0  \n",
      "1                       0.351   31        0  1.0  0.0  \n",
      "2                       0.672   32        1  0.0  1.0  \n",
      "3                       0.167   21        0  1.0  0.0  \n",
      "4                       2.288   33        1  0.0  1.0  \n",
      "..                        ...  ...      ...  ...  ...  \n",
      "763                     0.171   63        0  1.0  0.0  \n",
      "764                     0.340   27        0  1.0  0.0  \n",
      "765                     0.245   30        0  1.0  0.0  \n",
      "766                     0.349   47        1  0.0  1.0  \n",
      "767                     0.315   23        0  1.0  0.0  \n",
      "\n",
      "[768 rows x 11 columns]\n"
     ]
    }
   ],
   "source": [
    "from sklearn.preprocessing import OneHotEncoder\n",
    "encoder = OneHotEncoder(handle_unknown='ignore') \n",
    "encoder_df = pd.DataFrame(encoder.fit_transform(df[['Outcome']]).toarray())\n",
    "final_df = df.join(encoder_df)\n",
    "print(final_df)"
   ]
  },
  {
   "cell_type": "code",
   "execution_count": 3,
   "id": "0fc89a0d",
   "metadata": {},
   "outputs": [
    {
     "name": "stdout",
     "output_type": "stream",
     "text": [
      "     Pregnancies  Glucose  BloodPressure  SkinThickness  Insulin   BMI  \\\n",
      "0              6      148             72             35        0  33.6   \n",
      "1              1       85             66             29        0  26.6   \n",
      "2              8      183             64              0        0  23.3   \n",
      "3              1       89             66             23       94  28.1   \n",
      "4              0      137             40             35      168  43.1   \n",
      "..           ...      ...            ...            ...      ...   ...   \n",
      "763           10      101             76             48      180  32.9   \n",
      "764            2      122             70             27        0  36.8   \n",
      "765            5      121             72             23      112  26.2   \n",
      "766            1      126             60              0        0  30.1   \n",
      "767            1       93             70             31        0  30.4   \n",
      "\n",
      "     DiabetesPedigreeFunction  Age    0    1  \n",
      "0                       0.627   50  0.0  1.0  \n",
      "1                       0.351   31  1.0  0.0  \n",
      "2                       0.672   32  0.0  1.0  \n",
      "3                       0.167   21  1.0  0.0  \n",
      "4                       2.288   33  0.0  1.0  \n",
      "..                        ...  ...  ...  ...  \n",
      "763                     0.171   63  1.0  0.0  \n",
      "764                     0.340   27  1.0  0.0  \n",
      "765                     0.245   30  1.0  0.0  \n",
      "766                     0.349   47  0.0  1.0  \n",
      "767                     0.315   23  1.0  0.0  \n",
      "\n",
      "[768 rows x 10 columns]\n"
     ]
    }
   ],
   "source": [
    "final_df.drop('Outcome', axis=1, inplace=True)\n",
    "print(final_df)"
   ]
  },
  {
   "cell_type": "markdown",
   "id": "f7731616",
   "metadata": {},
   "source": [
    "#### One-hot encoding can be used to transform one or more categorical features into numerical dummy features useful for training machine learning model. One-hot encoding is also called dummy encoding due to the fact that the transformation of categorical features results into dummy features. OneHotEncoder class of sklearn."
   ]
  },
  {
   "cell_type": "markdown",
   "id": "e6896d56",
   "metadata": {},
   "source": [
    "#### One-hot encoding is the process by which categorical data are converted into numerical data for use in machine learning. Categorical features are turned into binary features that are “one-hot” encoded, meaning that if a feature is represented by that column, it receives a 1 . Otherwise, it receives a 0 "
   ]
  },
  {
   "cell_type": "markdown",
   "id": "b9e1b79b",
   "metadata": {},
   "source": [
    "#### It imports the OneHotEncoder class from the sklearn.preprocessing module.\n",
    "#### It creates an instance of the OneHotEncoder class and assigns it to the variable encoder. The parameter handle_unknown='ignore' is set, which means that if unknown categories are encountered during encoding, it will ignore them instead of raising an error.\n",
    "#### It selects the column 'remote_ratio' from the DataFrame df and passes it to the fit_transform() method of the encoder object. This method performs the one-hot encoding and returns a sparse matrix.\n",
    "#### It converts the resulting sparse matrix into a DataFrame using pd.DataFrame(), and assigns it to the variable encoder_df.\n",
    "#### It joins the original DataFrame df with the encoded DataFrame encoder_df using the join() method. The resulting DataFrame is assigned to the variable final_df."
   ]
  },
  {
   "cell_type": "code",
   "execution_count": null,
   "id": "889e49a3",
   "metadata": {},
   "outputs": [],
   "source": []
  }
 ],
 "metadata": {
  "kernelspec": {
   "display_name": "Python 3 (ipykernel)",
   "language": "python",
   "name": "python3"
  },
  "language_info": {
   "codemirror_mode": {
    "name": "ipython",
    "version": 3
   },
   "file_extension": ".py",
   "mimetype": "text/x-python",
   "name": "python",
   "nbconvert_exporter": "python",
   "pygments_lexer": "ipython3",
   "version": "3.10.0"
  }
 },
 "nbformat": 4,
 "nbformat_minor": 5
}
